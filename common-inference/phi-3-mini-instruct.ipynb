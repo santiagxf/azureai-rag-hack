{
 "cells": [
  {
   "cell_type": "markdown",
   "metadata": {},
   "source": [
    "# Phi-3 Mini Instruct\n",
    "\n",
    "In this example, we will see how you can run Cohere Command R+ to consume predictions using the [Azure AI model infernece API](https://aka.ms/azureai/modelinference) along with the package `azure-ai-inference` SDK."
   ]
  },
  {
   "cell_type": "code",
   "execution_count": 2,
   "metadata": {},
   "outputs": [
    {
     "name": "stdout",
     "output_type": "stream",
     "text": [
      "Requirement already satisfied: azure-ai-inference in /root/miniconda3/lib/python3.12/site-packages (1.0.0b2)\n",
      "Collecting python-dotenv\n",
      "  Using cached python_dotenv-1.0.1-py3-none-any.whl.metadata (23 kB)\n",
      "Requirement already satisfied: isodate>=0.6.1 in /root/miniconda3/lib/python3.12/site-packages (from azure-ai-inference) (0.6.1)\n",
      "Requirement already satisfied: azure-core>=1.30.0 in /root/miniconda3/lib/python3.12/site-packages (from azure-ai-inference) (1.30.2)\n",
      "Requirement already satisfied: typing-extensions>=4.6.0 in /root/miniconda3/lib/python3.12/site-packages (from azure-ai-inference) (4.11.0)\n",
      "Requirement already satisfied: requests>=2.21.0 in /root/miniconda3/lib/python3.12/site-packages (from azure-core>=1.30.0->azure-ai-inference) (2.32.2)\n",
      "Requirement already satisfied: six>=1.11.0 in /root/miniconda3/lib/python3.12/site-packages (from azure-core>=1.30.0->azure-ai-inference) (1.16.0)\n",
      "Requirement already satisfied: charset-normalizer<4,>=2 in /root/miniconda3/lib/python3.12/site-packages (from requests>=2.21.0->azure-core>=1.30.0->azure-ai-inference) (2.0.4)\n",
      "Requirement already satisfied: idna<4,>=2.5 in /root/miniconda3/lib/python3.12/site-packages (from requests>=2.21.0->azure-core>=1.30.0->azure-ai-inference) (3.7)\n",
      "Requirement already satisfied: urllib3<3,>=1.21.1 in /root/miniconda3/lib/python3.12/site-packages (from requests>=2.21.0->azure-core>=1.30.0->azure-ai-inference) (2.2.2)\n",
      "Requirement already satisfied: certifi>=2017.4.17 in /root/miniconda3/lib/python3.12/site-packages (from requests>=2.21.0->azure-core>=1.30.0->azure-ai-inference) (2024.6.2)\n",
      "Using cached python_dotenv-1.0.1-py3-none-any.whl (19 kB)\n",
      "Installing collected packages: python-dotenv\n",
      "Successfully installed python-dotenv-1.0.1\n",
      "\u001b[33mWARNING: Running pip as the 'root' user can result in broken permissions and conflicting behaviour with the system package manager. It is recommended to use a virtual environment instead: https://pip.pypa.io/warnings/venv\u001b[0m\u001b[33m\n",
      "\u001b[0mNote: you may need to restart the kernel to use updated packages.\n"
     ]
    }
   ],
   "source": [
    "%pip install azure-ai-inference python-dotenv"
   ]
  },
  {
   "cell_type": "markdown",
   "metadata": {},
   "source": [
    "## Helper functions\n",
    "\n",
    "The following functions help to print the streaming response of a request:"
   ]
  },
  {
   "cell_type": "code",
   "execution_count": 1,
   "metadata": {},
   "outputs": [],
   "source": [
    "def print_stream(response):\n",
    "    \"\"\"\n",
    "    Prints the response from the service as it is received using \n",
    "    streaming. A delay is added to simulate a real-time conversation.\n",
    "    \"\"\"\n",
    "    import time\n",
    "\n",
    "    for update in response:\n",
    "        if update.choices[0].delta.content:\n",
    "            print(update.choices[0].delta.content, end=\"\")\n",
    "            # Simulate a delay in the conversation.\n",
    "            time.sleep(\n",
    "                0.02\n",
    "            )"
   ]
  },
  {
   "cell_type": "markdown",
   "metadata": {},
   "source": [
    "Let's load the environment variables:"
   ]
  },
  {
   "cell_type": "code",
   "execution_count": 2,
   "metadata": {},
   "outputs": [
    {
     "data": {
      "text/plain": [
       "True"
      ]
     },
     "execution_count": 2,
     "metadata": {},
     "output_type": "execute_result"
    }
   ],
   "source": [
    "import os\n",
    "from dotenv import load_dotenv\n",
    "\n",
    "load_dotenv(\"../.env\")"
   ]
  },
  {
   "cell_type": "markdown",
   "metadata": {},
   "source": [
    "## Chat completions\n",
    "\n",
    "The following example shows how you can run the chat completions API using the `azure-ai-inference` SDK:"
   ]
  },
  {
   "cell_type": "code",
   "execution_count": 22,
   "metadata": {},
   "outputs": [],
   "source": [
    "from azure.ai.inference import ChatCompletionsClient\n",
    "from azure.core.credentials import AzureKeyCredential\n",
    "\n",
    "model = ChatCompletionsClient(\n",
    "    endpoint=\"https://phi-3-mini-4k-instruct-sgtao.eastus2.inference.ml.azure.com\",\n",
    "    credential=AzureKeyCredential(\n",
    "        \"SE8nM4SLbI1NZqlcYoEdCD4zlQynCrA1\"),\n",
    ")"
   ]
  },
  {
   "cell_type": "markdown",
   "metadata": {},
   "source": [
    "Let's create the first request:"
   ]
  },
  {
   "cell_type": "code",
   "execution_count": 23,
   "metadata": {},
   "outputs": [
    {
     "name": "stdout",
     "output_type": "stream",
     "text": [
      " I should not be able to put 2 assistant message in a row"
     ]
    }
   ],
   "source": [
    "from azure.ai.inference.models import SystemMessage, UserMessage, AssistantMessage\n",
    "\n",
    "response = model.complete(\n",
    "    messages=[\n",
    "        AssistantMessage(\n",
    "            content=\"I should not be able to put Assistant at the top\"\n",
    "        ),\n",
    "        AssistantMessage(\n",
    "            content=\"I should not be able to put 2 assistant message in a row\"\n",
    "        ),\n",
    "        SystemMessage(\n",
    "            content=\"System is only accepted at the top\"\n",
    "        )\n",
    "    ],\n",
    "    temperature=0,\n",
    "    top_p=1,\n",
    "    stream=True,\n",
    ")\n",
    "\n",
    "print_stream(response)"
   ]
  },
  {
   "cell_type": "code",
   "execution_count": null,
   "metadata": {},
   "outputs": [],
   "source": []
  }
 ],
 "metadata": {
  "kernelspec": {
   "display_name": "Python 3 (ipykernel)",
   "language": "python",
   "name": "python3"
  },
  "language_info": {
   "codemirror_mode": {
    "name": "ipython",
    "version": 3
   },
   "file_extension": ".py",
   "mimetype": "text/x-python",
   "name": "python",
   "nbconvert_exporter": "python",
   "pygments_lexer": "ipython3",
   "version": "3.12.4"
  }
 },
 "nbformat": 4,
 "nbformat_minor": 4
}
